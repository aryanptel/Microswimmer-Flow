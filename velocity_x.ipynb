{
 "cells": [
  {
   "cell_type": "code",
   "execution_count": 32,
   "id": "7e3308f5-f948-4534-b1f1-73ed9e344ba2",
   "metadata": {
    "tags": []
   },
   "outputs": [],
   "source": [
    "from matplotlib import pyplot as plt\n",
    "\n",
    "import numpy as np\n",
    "\n",
    "a = 1\n",
    "l = 5*a\n",
    "l_ = (a**2)/l\n",
    "\n",
    "\n",
    "h_al = ((a/l)**2-(a/l)**4)\n",
    "g_al = (3/2)*((a/l)-((a/l)**3)/3)\n",
    "j_al = (1/4)*(a/l)*(1-(a/l)**2)**2\n",
    "\n",
    "#p = np.sqrt(x**2+ y**2)  # -  taken\n",
    "\n",
    "\n",
    "eta = 1 #define the values\n",
    "f = 5 #enter the values\n",
    "\n",
    "cons = f/(8*np.pi*eta)\n"
   ]
  },
  {
   "cell_type": "code",
   "execution_count": 33,
   "id": "97830e19-86b7-453a-830b-595388f56135",
   "metadata": {
    "tags": []
   },
   "outputs": [],
   "source": [
    "#+ve terms effective terms\n",
    "S_eff = l*(1-((a/l)**2)*g_al+h_al*(a/l)) #+- outside for the, we took only plus for the pusher\n",
    "\n",
    "D_eff = -(a**2)*((1-g_al)/3+2*j_al) #D_eff\n",
    "\n",
    "Q_eff = -(1-(g_al)*((a/l)**4) + ((a/l)**3)*h_al)*l**2 #+ we took for the pusher\n",
    "\n",
    "#we have taken calculated values of the Qeff term"
   ]
  },
  {
   "cell_type": "markdown",
   "id": "d4b64730-a320-4604-b710-b56c8aaa9d69",
   "metadata": {},
   "source": [
    "#Q_eff\n",
    "u1 = Q_eff * ( -15*(x**4)/(p**7) + 12*(x**2)/(p**5) - 1/(p**3))\n",
    "v1 = Q_eff * ( -15*(x**3)*y/(p**7) + 9*x*y/(p**5) )\n",
    "\n",
    "#D_eff\n",
    "\n",
    "u2 = (D_eff) * ( -15*(x**4)/(p**7) - 15*(x**2)*(y**2)/(p**7) + 15*(x**2)/(p**5) - 3*(y**2)/(p**5)  )\n",
    "v2 = (D_eff) * ( -15*(x**3)*y/(p**7) - 15*x*(y**3)/(p**7) + 18*x*y/(p**5) )\n",
    "\n",
    "#S_eff\n",
    "#pm will be there outside the S_eff\n",
    "\n",
    "u3 = S_eff   *  (-3*(x**3)/(p**5) + x/(p**3) )\n",
    "v3 = S_eff   *  (-3*(x**2)*y/(p**5) + y/(p**3) )\n",
    "\n",
    "\n",
    "u = cons*(u1 -    u2/2    +    u3)\n",
    "v = cons*(v1 -    v2/2    +    v3)\n"
   ]
  },
  {
   "cell_type": "code",
   "execution_count": 34,
   "id": "2e6284c3-6c94-4ced-9d80-aa74fa1ba71c",
   "metadata": {
    "tags": []
   },
   "outputs": [],
   "source": [
    "def xvel(x,y):\n",
    "    p = np.sqrt(x**2+ y**2)\n",
    "    u1 = Q_eff * ( -15*(x**4)/(p**7) + 12*(x**2)/(p**5) - 1/(p**3))\n",
    "    u2 = (D_eff) * ( -15*(x**4)/(p**7) - 15*(x**2)*(y**2)/(p**7) + 15*(x**2)/(p**5) - 3*(y**2)/(p**5)  )\n",
    "    u3 = S_eff   *  (-3*(x**3)/(p**5) + x/(p**3) )\n",
    "    ux = np.abs(cons*(u1 -    u2/2    +    u3))\n",
    "    p = np.sqrt(x**2+ y**2)\n",
    "    v1 = Q_eff * ( -15*(x**3)*y/(p**7) + 9*x*y/(p**5) )\n",
    "    v2 = (D_eff) * ( -15*(x**3)*y/(p**7) - 15*x*(y**3)/(p**7) + 18*x*y/(p**5) )\n",
    "    v3 = S_eff   *  (-3*(x**2)*y/(p**5) + y/(p**3) )\n",
    "    v = np.abs(cons*(v1 -    v2/2    +    v3))\n",
    "    v1 = np.sqrt(ux**2 + v**2)\n",
    "    return v\n",
    "                "
   ]
  },
  {
   "cell_type": "code",
   "execution_count": 35,
   "id": "36bad7cb-f915-4fc8-a8c3-e75c4b9e81be",
   "metadata": {
    "tags": []
   },
   "outputs": [
    {
     "data": {
      "image/png": "[encoded data removed]",
      "text/plain": [
       "<Figure size 432x288 with 1 Axes>"
      ]
     },
     "metadata": {
      "needs_background": "light"
     },
     "output_type": "display_data"
    }
   ],
   "source": [
    "x = np.linspace(1,10,1000)\n",
    "y1 = 0\n",
    "velx = []\n",
    "for i in x:\n",
    "    #print(i)\n",
    "    p = np.abs(xvel(i,y1))\n",
    "    velx.append(p)\n",
    "    #print(p)\n",
    "plt.plot(x,velx)\n",
    "plt.xlabel('x') \n",
    "plt.ylabel('|Vel_x|') \n",
    "plt.title(\"|Vel(x)| and x with y = 0\" )\n",
    "plt.savefig(\"|Vel(x)| and x with y = 0\" )"
   ]
  },
  {
   "cell_type": "code",
   "execution_count": 30,
   "id": "62b871c1-04ed-4cab-8129-a8000b4450b7",
   "metadata": {
    "tags": []
   },
   "outputs": [
    {
     "data": {
      "image/png": "[encoded data removed]",
      "text/plain": [
       "<Figure size 432x288 with 1 Axes>"
      ]
     },
     "metadata": {
      "needs_background": "light"
     },
     "output_type": "display_data"
    }
   ],
   "source": [
    "y = np.linspace(1,10,1000)\n",
    "x1 = 0\n",
    "vely = []\n",
    "for i in y:\n",
    "    #print(i)\n",
    "    p1 = np.abs(yvel(x1,i))\n",
    "    vely.append(p1)\n",
    "    #print(p1)\n",
    "\n",
    "plt.plot(y,vely)\n",
    "plt.xlabel('y') \n",
    "plt.ylabel('|vel_y|') \n",
    "plt.title(\"|vel(y)| and y, with x =y\" )\n",
    "plt.savefig(\"|vel(y)| and y, with x =y\")"
   ]
  },
  {
   "cell_type": "code",
   "execution_count": null,
   "id": "5743bf37-2e33-426a-bf88-30b1e18bce72",
   "metadata": {
    "tags": []
   },
   "outputs": [],
   "source": []
  },
  {
   "cell_type": "code",
   "execution_count": null,
   "id": "8b4d2fc0-056c-4346-92af-508f78be18df",
   "metadata": {
    "tags": []
   },
   "outputs": [],
   "source": [
    "plt.plot(y,vely)"
   ]
  },
  {
   "cell_type": "code",
   "execution_count": null,
   "id": "1f8e93ee-29f3-48ba-8950-a7b5b6966f82",
   "metadata": {},
   "outputs": [],
   "source": []
  }
 ],
 "metadata": {
  "kernelspec": {
   "display_name": "Python 3",
   "language": "python",
   "name": "python3"
  },
  "language_info": {
   "codemirror_mode": {
    "name": "ipython",
    "version": 3
   },
   "file_extension": ".py",
   "mimetype": "text/x-python",
   "name": "python",
   "nbconvert_exporter": "python",
   "pygments_lexer": "ipython3",
   "version": "3.8.8"
  }
 },
 "nbformat": 4,
 "nbformat_minor": 5
}
